{
 "cells": [
  {
   "cell_type": "markdown",
   "metadata": {},
   "source": [
    "Load Data\n",
    "\n",
    "The first two columns contains the exam scores and the third column contains the label(whether the person got admission or not)."
   ]
  },
  {
   "cell_type": "code",
   "execution_count": 118,
   "metadata": {
    "collapsed": true
   },
   "outputs": [],
   "source": [
    "import pandas as pd\n",
    "data = pd.read_csv(\"ex2/ex2data1.txt\", header = None)\n",
    "x = data.ix[:, 0:1]\n",
    "y = data.ix[:, 2]"
   ]
  },
  {
   "cell_type": "markdown",
   "metadata": {},
   "source": [
    "# 1.1Visualizing the data\n",
    "\n"
   ]
  },
  {
   "cell_type": "markdown",
   "metadata": {},
   "source": [
    "x1 and x2 are Exam 1 and Exam 2 scores repectively when y is equal to 1. similarly, x3 and x4 are Exam 1 and Exam 2 scores repectively when y is equal to 0"
   ]
  },
  {
   "cell_type": "code",
   "execution_count": 2,
   "metadata": {
    "collapsed": false
   },
   "outputs": [],
   "source": [
    "x1 = []\n",
    "for i in range(len(x)):\n",
    "    if y[i] == 1:\n",
    "        x1.append(x[0][i])\n",
    "        \n",
    "x2 = []\n",
    "for i in range(len(x)):\n",
    "    if y[i] == 1:\n",
    "        x2.append(x[1][i])\n",
    "        \n",
    "x3 = []\n",
    "for i in range(len(x)):\n",
    "    if y[i] == 0:\n",
    "        x3.append(x[0][i])    \n",
    "        \n",
    "        \n",
    "x4 = []\n",
    "for i in range(len(x)):\n",
    "    if y[i] == 0:\n",
    "        x4.append(x[1][i])\n"
   ]
  },
  {
   "cell_type": "markdown",
   "metadata": {},
   "source": [
    "Plotting the data."
   ]
  },
  {
   "cell_type": "code",
   "execution_count": 233,
   "metadata": {
    "collapsed": false
   },
   "outputs": [
    {
     "data": {
      "image/png": "[encoded data removed]",
      "text/plain": [
       "<matplotlib.figure.Figure at 0xa96bb60c>"
      ]
     },
     "metadata": {},
     "output_type": "display_data"
    }
   ],
   "source": [
    "%matplotlib inline\n",
    "from matplotlib import pyplot as plt\n",
    "plt.rcParams[\"figure.figsize\"] = [9, 6]\n",
    "plt.plot(x1, x2, \"k+\", label = \"Admitted\")\n",
    "plt.plot(x3, x4, \"yo\", label = \"Not admitted\")\n",
    "plt.xlabel(\"Exam1 Score\")\n",
    "plt.ylabel(\"Exam2 score\")\n",
    "plt.legend(loc = \"upper right\", fontsize = \"x-small\", numpoints = 1 )\n",
    "plt.ylim((30,100))\n",
    "plt.xlim((30,100))\n",
    "plt.show()"
   ]
  },
  {
   "cell_type": "markdown",
   "metadata": {},
   "source": [
    "                    Figure 1: Scatter plot of training data"
   ]
  },
  {
   "cell_type": "markdown",
   "metadata": {},
   "source": [
    "# 1.2 Implementation\n",
    "\n",
    "## 1.2.1 Warmup exercise: sigmoid function"
   ]
  },
  {
   "cell_type": "code",
   "execution_count": 119,
   "metadata": {
    "collapsed": true
   },
   "outputs": [],
   "source": [
    "import numpy as np\n",
    "def sigmoid(z):\n",
    "    denominator = 1 + np.exp(-1 * z)\n",
    "    g = 1 / denominator\n",
    "    return g\n",
    "    "
   ]
  },
  {
   "cell_type": "markdown",
   "metadata": {},
   "source": [
    "## 1.2.2 Cost function and gradient"
   ]
  },
  {
   "cell_type": "code",
   "execution_count": 120,
   "metadata": {
    "collapsed": true
   },
   "outputs": [],
   "source": [
    "import numpy as np\n",
    "[m, n] = np.shape(x)\n",
    "x.insert(0, \"ones\", 1)\n",
    "initial_theta = np.zeros((n+1, 1))\n"
   ]
  },
  {
   "cell_type": "code",
   "execution_count": 200,
   "metadata": {
    "collapsed": false
   },
   "outputs": [],
   "source": [
    "def cost(theta, x, y):\n",
    "    m = len(y)\n",
    "    temp1 = -1 * y.dot(np.log(sigmoid(x.dot(theta))))\n",
    "    temp2 = (1 - y).dot(np.log(1 - sigmoid(x.dot(theta))))\n",
    "    \n",
    "    J = np.sum(temp1 - temp2) / (m * 1.0)\n",
    "    \n",
    "    return J\n",
    "\n",
    "\n",
    "def gradient(theta, x, y):\n",
    "    m = len(y)\n",
    "    grad = x.T.dot((sigmoid(x.dot(theta))) - y) * 1.0/m\n",
    "    return grad.flatten()"
   ]
  },
  {
   "cell_type": "markdown",
   "metadata": {},
   "source": [
    "# 1.2.3 Learning parameters using scipy.optimize\n"
   ]
  },
  {
   "cell_type": "code",
   "execution_count": 217,
   "metadata": {
    "collapsed": false
   },
   "outputs": [],
   "source": [
    "import scipy.optimize as op\n",
    "minimized_values = op.fmin_tnc(func = cost, x0 = initial_theta, args = (x.values, y.values), fprime = gradient)\n",
    "optimal_theta = minimized_values[0]"
   ]
  },
  {
   "cell_type": "markdown",
   "metadata": {},
   "source": [
    "##                                                 or"
   ]
  },
  {
   "cell_type": "code",
   "execution_count": 216,
   "metadata": {
    "collapsed": false
   },
   "outputs": [],
   "source": [
    "minimized_values1 = op.minimize(fun = cost, x0 = initial_theta, args = (x.values, y.values), method = 'TNC', jac = gradient)\n",
    "optimal_theta1 = minimized_values1.x"
   ]
  },
  {
   "cell_type": "markdown",
   "metadata": {},
   "source": [
    "## Decision Boundary"
   ]
  },
  {
   "cell_type": "code",
   "execution_count": 281,
   "metadata": {
    "collapsed": false
   },
   "outputs": [
    {
     "data": {
      "image/png": "[encoded data removed]",
      "text/plain": [
       "<matplotlib.figure.Figure at 0xaa163a2c>"
      ]
     },
     "metadata": {},
     "output_type": "display_data"
    }
   ],
   "source": [
    "%matplotlib inline\n",
    "from matplotlib import pyplot as plt\n",
    "plt.rcParams[\"figure.figsize\"] = [9, 6]\n",
    "plt.scatter(x1, x2, s = 50, c = 'black', marker = \"+\", linewidths = 3, label = \"Admitted\")\n",
    "plt.scatter(x3, x4, s=50, c='y', marker = \"o\", linewidths = 1, label = \"Not admitted\")\n",
    "\n",
    "plot_x = np.linspace(min(x[1].values) - 2,  max(x[1]) + 2, 50)\n",
    "plot_y = (-1./optimal_theta[2]) * (optimal_theta[2] * plot_x + optimal_theta[0])\n",
    "plt.plot(plot_x, plot_y, label = \"Decision Boundary\")\n",
    "\n",
    "plt.xlabel(\"Exam1 Score\")\n",
    "plt.ylabel(\"Exam2 score\")\n",
    "plt.legend(loc = \"upper right\", fontsize = \"x-small\", scatterpoints=1)\n",
    "plt.ylim((30,100))\n",
    "plt.xlim((30,100))\n",
    "plt.show()"
   ]
  },
  {
   "cell_type": "markdown",
   "metadata": {},
   "source": [
    "             Figure 2: Training data with decision boundary"
   ]
  },
  {
   "cell_type": "markdown",
   "metadata": {},
   "source": [
    "# 1.2.4 Evaluating logistic regression"
   ]
  },
  {
   "cell_type": "code",
   "execution_count": 308,
   "metadata": {
    "collapsed": false
   },
   "outputs": [],
   "source": [
    "prob = sigmoid(np.array([1, 45, 85]).dot(optimal_theta))"
   ]
  },
  {
   "cell_type": "code",
   "execution_count": 294,
   "metadata": {
    "collapsed": false
   },
   "outputs": [],
   "source": [
    "def predict(theta, x):\n",
    "    p = sigmoid(x.values.dot(theta))\n",
    "    for i in range(len(p)):\n",
    "        p[i] = round(p[i])\n",
    "    return p"
   ]
  },
  {
   "cell_type": "code",
   "execution_count": 311,
   "metadata": {
    "collapsed": false
   },
   "outputs": [
    {
     "name": "stdout",
     "output_type": "stream",
     "text": [
      "Training Accuracy:  89.0 %\n"
     ]
    }
   ],
   "source": [
    "p = predict(optimal_theta, x)\n",
    "count = 0\n",
    "i = 0\n",
    "while i < len(y):\n",
    "    if y.values[i] == p[i]:\n",
    "        count = count + 1\n",
    "    i = i + 1\n",
    "percentage = ((1.0 * count)/len(y)) * 100\n",
    "print \"Training Accuracy: \", percentage, \"%\"\n"
   ]
  },
  {
   "cell_type": "code",
   "execution_count": null,
   "metadata": {
    "collapsed": true
   },
   "outputs": [],
   "source": []
  }
 ],
 "metadata": {
  "anaconda-cloud": {},
  "kernelspec": {
   "display_name": "Python [Root]",
   "language": "python",
   "name": "Python [Root]"
  },
  "language_info": {
   "codemirror_mode": {
    "name": "ipython",
    "version": 2
   },
   "file_extension": ".py",
   "mimetype": "text/x-python",
   "name": "python",
   "nbconvert_exporter": "python",
   "pygments_lexer": "ipython2",
   "version": "2.7.12"
  }
 },
 "nbformat": 4,
 "nbformat_minor": 0
}

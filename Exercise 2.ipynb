{
 "cells": [
  {
   "cell_type": "markdown",
   "metadata": {},
   "source": [
    "# 1  Logistic Regression"
   ]
  },
  {
   "cell_type": "markdown",
   "metadata": {},
   "source": [
    "We will build a logistic regression model to predict whether a student gets admitted into a university based on the scores from two exams conducted by the University.\n",
    "\n",
    "\n",
    "Load Data\n",
    "\n",
    "The first two columns contains the exam scores and the third column contains the label(whether the person got admission or not)."
   ]
  },
  {
   "cell_type": "code",
   "execution_count": 10,
   "metadata": {
    "collapsed": true
   },
   "outputs": [],
   "source": [
    "import pandas as pd\n",
    "data = pd.read_csv(\"ex2/ex2data1.txt\", header = None)\n",
    "x = data.ix[:, 0:1]\n",
    "y = data.ix[:, 2]"
   ]
  },
  {
   "cell_type": "markdown",
   "metadata": {},
   "source": [
    "# 1.1Visualizing the data\n",
    "\n"
   ]
  },
  {
   "cell_type": "markdown",
   "metadata": {},
   "source": [
    "x1 and x2 are Exam 1 and Exam 2 scores repectively when y is equal to 1. similarly, x3 and x4 are Exam 1 and Exam 2 scores repectively when y is equal to 0."
   ]
  },
  {
   "cell_type": "code",
   "execution_count": 2,
   "metadata": {
    "collapsed": false
   },
   "outputs": [],
   "source": [
    "x1 = []\n",
    "for i in range(len(x)):\n",
    "    if y[i] == 1:\n",
    "        x1.append(x[0][i])\n",
    "        \n",
    "x2 = []\n",
    "for i in range(len(x)):\n",
    "    if y[i] == 1:\n",
    "        x2.append(x[1][i])\n",
    "        \n",
    "x3 = []\n",
    "for i in range(len(x)):\n",
    "    if y[i] == 0:\n",
    "        x3.append(x[0][i])    \n",
    "        \n",
    "        \n",
    "x4 = []\n",
    "for i in range(len(x)):\n",
    "    if y[i] == 0:\n",
    "        x4.append(x[1][i])\n"
   ]
  },
  {
   "cell_type": "markdown",
   "metadata": {},
   "source": [
    "Plotting the data."
   ]
  },
  {
   "cell_type": "code",
   "execution_count": 233,
   "metadata": {
    "collapsed": false
   },
   "outputs": [
    {
     "data": {
      "image/png": "[encoded data removed]",
      "text/plain": [
       "<matplotlib.figure.Figure at 0xa96bb60c>"
      ]
     },
     "metadata": {},
     "output_type": "display_data"
    }
   ],
   "source": [
    "%matplotlib inline\n",
    "from matplotlib import pyplot as plt\n",
    "plt.rcParams[\"figure.figsize\"] = [9, 6]\n",
    "plt.plot(x1, x2, \"k+\", label = \"Admitted\")\n",
    "plt.plot(x3, x4, \"yo\", label = \"Not admitted\")\n",
    "plt.xlabel(\"Exam1 Score\")\n",
    "plt.ylabel(\"Exam2 score\")\n",
    "plt.legend(loc = \"upper right\", fontsize = \"x-small\", numpoints = 1 )\n",
    "plt.ylim((30,100))\n",
    "plt.xlim((30,100))\n",
    "plt.show()"
   ]
  },
  {
   "cell_type": "markdown",
   "metadata": {},
   "source": [
    "                    Figure 1: Scatter plot of training data"
   ]
  },
  {
   "cell_type": "markdown",
   "metadata": {},
   "source": [
    "# 1.2 Implementation\n",
    "\n",
    "## 1.2.1 Warmup exercise: sigmoid function"
   ]
  },
  {
   "cell_type": "code",
   "execution_count": 12,
   "metadata": {
    "collapsed": true
   },
   "outputs": [],
   "source": [
    "import numpy as np\n",
    "def sigmoid(z):\n",
    "    denominator = 1 + np.exp(-1 * z)\n",
    "    g = 1 / denominator\n",
    "    return g\n",
    "    "
   ]
  },
  {
   "cell_type": "markdown",
   "metadata": {},
   "source": [
    "## 1.2.2 Cost function and gradient"
   ]
  },
  {
   "cell_type": "code",
   "execution_count": 12,
   "metadata": {
    "collapsed": false
   },
   "outputs": [],
   "source": [
    "def cost(theta, x, y):\n",
    "    m = len(y)\n",
    "    temp1 = -1 * y.dot(np.log(sigmoid(x.dot(theta))))\n",
    "    temp2 = (1 - y).dot(np.log(1 - sigmoid(x.dot(theta))))\n",
    "    \n",
    "    J = np.sum(temp1 - temp2) / (m * 1.0)\n",
    "    \n",
    "    return J\n",
    "\n",
    "\n",
    "def gradient(theta, x, y):\n",
    "    m = len(y)\n",
    "    grad = x.T.dot((sigmoid(x.dot(theta))) - y) * 1.0/m\n",
    "    return grad.flatten()"
   ]
  },
  {
   "cell_type": "markdown",
   "metadata": {},
   "source": [
    "Inserting a column containing one and initializing theta."
   ]
  },
  {
   "cell_type": "code",
   "execution_count": 5,
   "metadata": {
    "collapsed": true
   },
   "outputs": [],
   "source": [
    "import numpy as np\n",
    "[m, n] = np.shape(x)\n",
    "x.insert(0, \"ones\", 1)\n",
    "initial_theta = np.zeros((n+1, 1))\n"
   ]
  },
  {
   "cell_type": "markdown",
   "metadata": {},
   "source": [
    "# 1.2.3 Learning parameters using scipy.optimize\n"
   ]
  },
  {
   "cell_type": "code",
   "execution_count": 6,
   "metadata": {
    "collapsed": false
   },
   "outputs": [],
   "source": [
    "import scipy.optimize as op\n",
    "minimized_values = op.fmin_tnc(func = cost, x0 = initial_theta, args = (x.values, y.values), fprime = gradient)\n",
    "optimal_theta = minimized_values[0]"
   ]
  },
  {
   "cell_type": "markdown",
   "metadata": {},
   "source": [
    "##                                                 or"
   ]
  },
  {
   "cell_type": "code",
   "execution_count": 7,
   "metadata": {
    "collapsed": false
   },
   "outputs": [],
   "source": [
    "minimized_values1 = op.minimize(fun = cost, x0 = initial_theta, args = (x.values, y.values), method = 'TNC', jac = gradient)\n",
    "optimal_theta1 = minimized_values1.x"
   ]
  },
  {
   "cell_type": "markdown",
   "metadata": {},
   "source": [
    "## Decision Boundary"
   ]
  },
  {
   "cell_type": "code",
   "execution_count": 281,
   "metadata": {
    "collapsed": false
   },
   "outputs": [
    {
     "data": {
      "image/png": "[encoded data removed]",
      "text/plain": [
       "<matplotlib.figure.Figure at 0xaa163a2c>"
      ]
     },
     "metadata": {},
     "output_type": "display_data"
    }
   ],
   "source": [
    "%matplotlib inline\n",
    "from matplotlib import pyplot as plt\n",
    "plt.rcParams[\"figure.figsize\"] = [9, 6]\n",
    "plt.scatter(x1, x2, s = 50, c = 'black', marker = \"+\", linewidths = 3, label = \"Admitted\")\n",
    "plt.scatter(x3, x4, s=50, c='y', marker = \"o\", linewidths = 1, label = \"Not admitted\")\n",
    "\n",
    "plot_x = np.linspace(min(x[1].values) - 2,  max(x[1]) + 2, 50)\n",
    "plot_y = (-1./optimal_theta[2]) * (optimal_theta[2] * plot_x + optimal_theta[0])\n",
    "plt.plot(plot_x, plot_y, label = \"Decision Boundary\")\n",
    "\n",
    "plt.xlabel(\"Exam1 Score\")\n",
    "plt.ylabel(\"Exam2 score\")\n",
    "plt.legend(loc = \"upper right\", fontsize = \"x-small\", scatterpoints=1)\n",
    "plt.ylim((30,100))\n",
    "plt.xlim((30,100))\n",
    "plt.show()"
   ]
  },
  {
   "cell_type": "markdown",
   "metadata": {},
   "source": [
    "             Figure 2: Training data with decision boundary"
   ]
  },
  {
   "cell_type": "markdown",
   "metadata": {},
   "source": [
    "# 1.2.4 Evaluating logistic regression"
   ]
  },
  {
   "cell_type": "markdown",
   "metadata": {},
   "source": [
    "Predicting probability for a student with score 45 on exam 1 and score 85 on exam 2 to get admission."
   ]
  },
  {
   "cell_type": "code",
   "execution_count": 9,
   "metadata": {
    "collapsed": false
   },
   "outputs": [
    {
     "data": {
      "text/plain": [
       "0.77629062212973832"
      ]
     },
     "execution_count": 9,
     "metadata": {},
     "output_type": "execute_result"
    }
   ],
   "source": [
    "prob = sigmoid(np.array([1, 45, 85]).dot(optimal_theta))\n",
    "prob"
   ]
  },
  {
   "cell_type": "markdown",
   "metadata": {},
   "source": [
    "#### Computing accuracy on our training set"
   ]
  },
  {
   "cell_type": "markdown",
   "metadata": {},
   "source": [
    "This function predicts the probability of getting admission for the training data."
   ]
  },
  {
   "cell_type": "code",
   "execution_count": 155,
   "metadata": {
    "collapsed": false
   },
   "outputs": [],
   "source": [
    "def predict(theta, x):\n",
    "    p = sigmoid(x.values.dot(theta))\n",
    "    for i in range(len(p)):\n",
    "        p[i] = round(p[i])\n",
    "    return p"
   ]
  },
  {
   "cell_type": "markdown",
   "metadata": {},
   "source": [
    "Accuracy in percentage is computed below."
   ]
  },
  {
   "cell_type": "code",
   "execution_count": 311,
   "metadata": {
    "collapsed": false
   },
   "outputs": [
    {
     "name": "stdout",
     "output_type": "stream",
     "text": [
      "Training Accuracy:  89.0 %\n"
     ]
    }
   ],
   "source": [
    "p = predict(optimal_theta, x)\n",
    "count = 0\n",
    "i = 0\n",
    "while i < len(y):\n",
    "    if y.values[i] == p[i]:\n",
    "        count = count + 1\n",
    "    i = i + 1\n",
    "percentage = ((1.0 * count)/len(y)) * 100\n",
    "print \"Training Accuracy: \", percentage, \"%\"\n"
   ]
  },
  {
   "cell_type": "markdown",
   "metadata": {
    "collapsed": true
   },
   "source": [
    "# 2    Regularized logistic regression"
   ]
  },
  {
   "cell_type": "markdown",
   "metadata": {},
   "source": [
    "We will implement regularized logistic regression to predict whether microchips from a fabrication plant passes quality assurance (QA) based on two different tests.\n",
    "\n",
    "Load data.\n",
    "\n",
    "The first two columns contains the X values and the third column contains the label (y)."
   ]
  },
  {
   "cell_type": "code",
   "execution_count": 7,
   "metadata": {
    "collapsed": true
   },
   "outputs": [],
   "source": [
    "import pandas as pd\n",
    "import numpy as np\n",
    "data = pd.read_csv(\"ex2/ex2data2.txt\", header = None)\n",
    "x = data.ix[:, 0:1]\n",
    "y = data.ix[:, 2]"
   ]
  },
  {
   "cell_type": "markdown",
   "metadata": {},
   "source": [
    "# 2.1  Visualizing the data"
   ]
  },
  {
   "cell_type": "code",
   "execution_count": 4,
   "metadata": {
    "collapsed": false
   },
   "outputs": [],
   "source": [
    "x1 = []\n",
    "for i in range(len(x)):\n",
    "    if y[i] == 1:\n",
    "        x1.append(x[0][i])\n",
    "        \n",
    "x2 = []\n",
    "for i in range(len(x)):\n",
    "    if y[i] == 1:\n",
    "        x2.append(x[1][i])\n",
    "        \n",
    "x3 = []\n",
    "for i in range(len(x)):\n",
    "    if y[i] == 0:\n",
    "        x3.append(x[0][i])    \n",
    "        \n",
    "        \n",
    "x4 = []\n",
    "for i in range(len(x)):\n",
    "    if y[i] == 0:\n",
    "        x4.append(x[1][i])\n"
   ]
  },
  {
   "cell_type": "markdown",
   "metadata": {},
   "source": [
    "plotting the data."
   ]
  },
  {
   "cell_type": "code",
   "execution_count": 22,
   "metadata": {
    "collapsed": false
   },
   "outputs": [
    {
     "data": {
      "image/png": "[encoded data removed]",
      "text/plain": [
       "<matplotlib.figure.Figure at 0xa9fc1f6c>"
      ]
     },
     "metadata": {},
     "output_type": "display_data"
    }
   ],
   "source": [
    "%matplotlib inline\n",
    "from matplotlib import pyplot as plt\n",
    "plt.rcParams[\"figure.figsize\"] = [9, 6]\n",
    "plt.scatter(x1, x2, s = 50, c = 'black', marker = \"+\", linewidths = 3, label = \"y = 1\")\n",
    "plt.scatter(x3, x4, s = 50, c = 'y', marker = \"o\", linewidths = 1, label = \"y = 0\")\n",
    "plt.xlabel(\"Microchip Test 1\")\n",
    "plt.ylabel(\"Microchip Test 2\")\n",
    "plt.legend(loc = \"upper right\", fontsize = \"x-small\", scatterpoints=1)\n",
    "plt.xlim((-1, 1.5 ))\n",
    "plt.ylim((-0.8, 1.2))\n",
    "plt.yticks(np.arange(-0.8, 1.4, 0.2))\n",
    "plt.show()"
   ]
  },
  {
   "cell_type": "markdown",
   "metadata": {},
   "source": [
    "                       Figure 3: Plot of training data"
   ]
  },
  {
   "cell_type": "markdown",
   "metadata": {},
   "source": [
    "# 2.2  Feature mapping"
   ]
  },
  {
   "cell_type": "markdown",
   "metadata": {},
   "source": [
    "One way to fit the data better is to create more features from each data point. We will map the features into all polynomial terms of first column of x and second column of x upto the sixth power. As a result of this mapping, our vector of two features (the scores on two QA tests) has been transformed into a 28-dimensional vector."
   ]
  },
  {
   "cell_type": "code",
   "execution_count": 55,
   "metadata": {
    "collapsed": false
   },
   "outputs": [],
   "source": [
    "def mapfeature(x1, x2):\n",
    "    degree = 6\n",
    "    out = np.ones((len(x1), 1))\n",
    "    for i in range(1, 7):\n",
    "        for j in range(0, i + 1):\n",
    "            out = np.append(out, ((x1 ** (i - j)) * (x2 ** j)).reshape(len(x1), 1), axis = 1)\n",
    "    return out"
   ]
  },
  {
   "cell_type": "markdown",
   "metadata": {},
   "source": [
    "#### Initialize fitting parameters\n"
   ]
  },
  {
   "cell_type": "code",
   "execution_count": 158,
   "metadata": {
    "collapsed": false
   },
   "outputs": [],
   "source": [
    "a = x.ix[:, 0]\n",
    "b = x.ix[:, 1]\n",
    "X = pd.DataFrame(mapfeature(a, b))\n",
    "[m, n] = np.shape(X)\n",
    "initial_theta = np.zeros((n, ))\n",
    "\n"
   ]
  },
  {
   "cell_type": "markdown",
   "metadata": {},
   "source": [
    "# 2.3 Cost function and gradient"
   ]
  },
  {
   "cell_type": "code",
   "execution_count": 106,
   "metadata": {
    "collapsed": false
   },
   "outputs": [],
   "source": [
    "\n",
    "def cost(theta, x, y, l):\n",
    "    m = x.shape[0]\n",
    "    temp = 0\n",
    "    for i in range(0, m):\n",
    "        temp += -y[i] * np.log(sigmoid(theta.dot(x[i]))) - (1 - y[i]) * np.log(1 - sigmoid(theta.dot(x[i])))\n",
    "    J =  temp/m + ((l/(2 * m)) * np.sum(theta ** 2))\n",
    "    return J\n",
    "\n",
    "def gradient(theta, x, y, l):\n",
    "    [m, n] = x.shape\n",
    "    grad = np.zeros((n,))\n",
    "    sum = 0\n",
    "    for i in range(0,m):\n",
    "        sum += ((sigmoid(theta.dot(x[i])) - y[i]) * x[i][0])\n",
    "    grad[0] = sum/m \n",
    "    \n",
    "    for j in range(0, n):\n",
    "        sum = 0\n",
    "        for i in range(0, m):\n",
    "            sum += (sigmoid(theta.dot(x[i])) - y[i]) * x[i][j]\n",
    "        grad[j] = sum/(m) + (l/(m)) * theta[j]\n",
    "    return grad        "
   ]
  },
  {
   "cell_type": "markdown",
   "metadata": {},
   "source": [
    "Initial cost and gradient for regularized logistic regression."
   ]
  },
  {
   "cell_type": "code",
   "execution_count": 107,
   "metadata": {
    "collapsed": false
   },
   "outputs": [
    {
     "data": {
      "text/plain": [
       "(0.69314718055994606,\n",
       " array([  8.47457627e-03,   1.87880932e-02,   7.77711864e-05,\n",
       "          5.03446395e-02,   1.15013308e-02,   3.76648474e-02,\n",
       "          1.83559872e-02,   7.32393391e-03,   8.19244468e-03,\n",
       "          2.34764889e-02,   3.93486234e-02,   2.23923907e-03,\n",
       "          1.28600503e-02,   3.09593720e-03,   3.93028171e-02,\n",
       "          1.99707467e-02,   4.32983232e-03,   3.38643902e-03,\n",
       "          5.83822078e-03,   4.47629067e-03,   3.10079849e-02,\n",
       "          3.10312442e-02,   1.09740238e-03,   6.31570797e-03,\n",
       "          4.08503006e-04,   7.26504316e-03,   1.37646175e-03,\n",
       "          3.87936363e-02]))"
      ]
     },
     "execution_count": 107,
     "metadata": {},
     "output_type": "execute_result"
    }
   ],
   "source": [
    "cost(initial_theta, X.values, y.values, l), gradient(initial_theta, X.values, y.values, l)\n",
    "\n"
   ]
  },
  {
   "cell_type": "markdown",
   "metadata": {},
   "source": [
    "## 2.3.1 Learning parameters using scipy.optimize"
   ]
  },
  {
   "cell_type": "code",
   "execution_count": 165,
   "metadata": {
    "collapsed": false
   },
   "outputs": [
    {
     "data": {
      "text/plain": [
       "array([ 1.14201563,  0.60123714,  1.16715812, -1.87180901, -0.91567127,\n",
       "       -1.26944015,  0.12678674, -0.36850107, -0.34494252, -0.17391073,\n",
       "       -1.42370671, -0.04838579, -0.60631733, -0.26916588, -1.16320193,\n",
       "       -0.24269706, -0.20697486, -0.04305268, -0.28008546, -0.28708931,\n",
       "       -0.46912457, -1.03629766,  0.0290438 , -0.2925073 ,  0.01716377,\n",
       "       -0.32880516, -0.13795624, -0.93187565])"
      ]
     },
     "execution_count": 165,
     "metadata": {},
     "output_type": "execute_result"
    }
   ],
   "source": [
    "import scipy.optimize as op\n",
    "minimized_values = op.fmin_tnc(func = cost, x0 = initial_theta, args = (X.values, y.values,1.0), fprime = gradient)\n",
    "optimal_theta = minimized_values[0]\n",
    "optimal_theta"
   ]
  },
  {
   "cell_type": "markdown",
   "metadata": {},
   "source": [
    "### or"
   ]
  },
  {
   "cell_type": "code",
   "execution_count": 109,
   "metadata": {
    "collapsed": false,
    "scrolled": true
   },
   "outputs": [
    {
     "data": {
      "text/plain": [
       "array([ 1.14201563,  0.60123714,  1.16715812, -1.87180901, -0.91567127,\n",
       "       -1.26944015,  0.12678674, -0.36850107, -0.34494252, -0.17391073,\n",
       "       -1.42370671, -0.04838579, -0.60631733, -0.26916588, -1.16320193,\n",
       "       -0.24269706, -0.20697486, -0.04305268, -0.28008546, -0.28708931,\n",
       "       -0.46912457, -1.03629766,  0.0290438 , -0.2925073 ,  0.01716377,\n",
       "       -0.32880516, -0.13795624, -0.93187565])"
      ]
     },
     "execution_count": 109,
     "metadata": {},
     "output_type": "execute_result"
    }
   ],
   "source": [
    "minimized_values1 = op.minimize(fun = cost, x0 = initial_theta, args = (X.values, y.values, l), method = 'TNC', jac = gradient)\n",
    "optimal_theta1 = minimized_values1.x\n",
    "optimal_theta1"
   ]
  },
  {
   "cell_type": "markdown",
   "metadata": {},
   "source": [
    "# 2. 4  Plotting the decision boundary"
   ]
  },
  {
   "cell_type": "code",
   "execution_count": 166,
   "metadata": {
    "collapsed": false,
    "scrolled": false
   },
   "outputs": [
    {
     "data": {
      "image/png": "[encoded data removed]",
      "text/plain": [
       "<matplotlib.figure.Figure at 0xa9f3018c>"
      ]
     },
     "metadata": {},
     "output_type": "display_data"
    }
   ],
   "source": [
    "%matplotlib inline\n",
    "from matplotlib import pyplot as plt\n",
    "plt.rcParams[\"figure.figsize\"] = [9, 6]\n",
    "plt.scatter(x1, x2, s = 50, c = 'black', marker = \"+\", linewidths = 3, label = \"y = 1\")\n",
    "plt.scatter(x3, x4, s = 50, c = 'y', marker = \"o\", linewidths = 1, label = \"y = 0\")\n",
    "\n",
    "u = np.linspace(-1,1.5,50)\n",
    "v = np.linspace(-1,1.5,50)\n",
    "U,V = np.meshgrid(u,v)\n",
    "z = np.zeros((len(u), len(v)))\n",
    "degree = 6\n",
    "k = 0\n",
    "for i in range(0,degree+1):\n",
    "        for j in range(0,i+1):\n",
    "            z = z + (((U ** (i-j)) * (V ** j)) * optimal_theta[k])\n",
    "            k += 1\n",
    "plt.contour(U, V, z, levels = [0], label = \"Decision Boundary\", colors = \"green\")\n",
    "\n",
    "plt.title(\"lambda = 1\")\n",
    "plt.xlabel(\"Microchip Test 1\")\n",
    "plt.ylabel(\"Microchip Test 2\")\n",
    "plt.legend(loc = \"upper right\", fontsize = \"x-small\", scatterpoints=1)\n",
    "plt.xlim((-1, 1.5 ))\n",
    "plt.ylim((-0.8, 1.2))\n",
    "plt.yticks(np.arange(-0.8, 1.4, 0.2))\n",
    "plt.show()"
   ]
  },
  {
   "cell_type": "markdown",
   "metadata": {},
   "source": [
    "        Figure 4: Training data with decision boundary (λ = 1)"
   ]
  },
  {
   "cell_type": "markdown",
   "metadata": {},
   "source": [
    "#### Computing accuracy on our training set"
   ]
  },
  {
   "cell_type": "markdown",
   "metadata": {},
   "source": [
    "Accuracy in percentage is computed below."
   ]
  },
  {
   "cell_type": "code",
   "execution_count": 161,
   "metadata": {
    "collapsed": false
   },
   "outputs": [
    {
     "name": "stdout",
     "output_type": "stream",
     "text": [
      "Training Accuracy:  81.3559322034 %\n"
     ]
    }
   ],
   "source": [
    "p = predict(optimal_theta, X)\n",
    "count = 0\n",
    "i = 0\n",
    "while i < len(y):\n",
    "    if y.values[i] == p[i]:\n",
    "        count = count + 1\n",
    "    i = i + 1\n",
    "percentage = ((1.0 * count)/len(y)) * 100\n",
    "print \"Training Accuracy: \", percentage, \"%\"\n"
   ]
  },
  {
   "cell_type": "markdown",
   "metadata": {},
   "source": [
    "# 2.5 Optional (ungraded) exercises"
   ]
  },
  {
   "cell_type": "markdown",
   "metadata": {},
   "source": [
    "We will try out different regularization parameters l for the dataset to understand how regularization prevents over- fitting."
   ]
  },
  {
   "cell_type": "code",
   "execution_count": 167,
   "metadata": {
    "collapsed": false
   },
   "outputs": [
    {
     "data": {
      "image/png": "[encoded data removed]",
      "text/plain": [
       "<matplotlib.figure.Figure at 0xa9faf34c>"
      ]
     },
     "metadata": {},
     "output_type": "display_data"
    }
   ],
   "source": [
    "minimized_values = op.fmin_tnc(func = cost, x0 = initial_theta, args = (X.values, y.values, 0), fprime = gradient)\n",
    "optimal_theta = minimized_values[0]\n",
    "\n",
    "%matplotlib inline\n",
    "from matplotlib import pyplot as plt\n",
    "plt.rcParams[\"figure.figsize\"] = [9, 6]\n",
    "plt.scatter(x1, x2, s = 50, c = 'black', marker = \"+\", linewidths = 3, label = \"y = 1\")\n",
    "plt.scatter(x3, x4, s = 50, c = 'y', marker = \"o\", linewidths = 1, label = \"y = 0\")\n",
    "\n",
    "u = np.linspace(-1,1.5,50)\n",
    "v = np.linspace(-1,1.5,50)\n",
    "U,V = np.meshgrid(u,v)\n",
    "z = np.zeros((len(u), len(v)))\n",
    "degree = 6\n",
    "k = 0\n",
    "for i in range(0,degree+1):\n",
    "        for j in range(0,i+1):\n",
    "            z = z + (((U ** (i-j)) * (V ** j)) * optimal_theta[k])\n",
    "            k += 1\n",
    "plt.contour(U, V, z, levels = [0], label = \"Decision Boundary\", colors = \"green\")\n",
    "\n",
    "plt.title(\"lambda = 0\")\n",
    "plt.xlabel(\"Microchip Test 1\")\n",
    "plt.ylabel(\"Microchip Test 2\")\n",
    "plt.legend(loc = \"upper right\", fontsize = \"x-small\", scatterpoints=1)\n",
    "plt.xlim((-1, 1.5 ))\n",
    "plt.ylim((-0.8, 1.2))\n",
    "plt.yticks(np.arange(-0.8, 1.4, 0.2))\n",
    "plt.show()"
   ]
  },
  {
   "cell_type": "markdown",
   "metadata": {},
   "source": [
    "         Figure 5: No regularization (Overfitting) (λ = 0)"
   ]
  },
  {
   "cell_type": "code",
   "execution_count": 168,
   "metadata": {
    "collapsed": false
   },
   "outputs": [
    {
     "data": {
      "image/png": "[encoded data removed]",
      "text/plain": [
       "<matplotlib.figure.Figure at 0xa9f3010c>"
      ]
     },
     "metadata": {},
     "output_type": "display_data"
    }
   ],
   "source": [
    "minimized_values = op.fmin_tnc(func = cost, x0 = initial_theta, args = (X.values, y.values, 100.0), fprime = gradient)\n",
    "optimal_theta = minimized_values[0]\n",
    "\n",
    "%matplotlib inline\n",
    "from matplotlib import pyplot as plt\n",
    "plt.rcParams[\"figure.figsize\"] = [9, 6]\n",
    "plt.scatter(x1, x2, s = 50, c = 'black', marker = \"+\", linewidths = 3, label = \"y = 1\")\n",
    "plt.scatter(x3, x4, s = 50, c = 'y', marker = \"o\", linewidths = 1, label = \"y = 0\")\n",
    "\n",
    "u = np.linspace(-1,1.5,50)\n",
    "v = np.linspace(-1,1.5,50)\n",
    "U,V = np.meshgrid(u,v)\n",
    "z = np.zeros((len(u), len(v)))\n",
    "degree = 6\n",
    "k = 0\n",
    "for i in range(0,degree+1):\n",
    "        for j in range(0,i+1):\n",
    "            z = z + (((U ** (i-j)) * (V ** j)) * optimal_theta[k])\n",
    "            k += 1\n",
    "plt.contour(U, V, z, levels = [0], label = \"Decision Boundary\", colors = \"green\")\n",
    "\n",
    "plt.title(\"lambda = 100\")\n",
    "plt.xlabel(\"Microchip Test 1\")\n",
    "plt.ylabel(\"Microchip Test 2\")\n",
    "plt.legend(loc = \"upper right\", fontsize = \"x-small\", scatterpoints=1)\n",
    "plt.xlim((-1, 1.5 ))\n",
    "plt.ylim((-0.8, 1.2))\n",
    "plt.yticks(np.arange(-0.8, 1.4, 0.2))\n",
    "plt.show()"
   ]
  },
  {
   "cell_type": "markdown",
   "metadata": {},
   "source": [
    "          Figure 6: Too much regularization (Underfitting) (λ = 100)"
   ]
  }
 ],
 "metadata": {
  "anaconda-cloud": {},
  "kernelspec": {
   "display_name": "Python [Root]",
   "language": "python",
   "name": "Python [Root]"
  },
  "language_info": {
   "codemirror_mode": {
    "name": "ipython",
    "version": 2
   },
   "file_extension": ".py",
   "mimetype": "text/x-python",
   "name": "python",
   "nbconvert_exporter": "python",
   "pygments_lexer": "ipython2",
   "version": "2.7.12"
  }
 },
 "nbformat": 4,
 "nbformat_minor": 0
}

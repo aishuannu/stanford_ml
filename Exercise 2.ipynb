{
 "cells": [
  {
   "cell_type": "markdown",
   "metadata": {},
   "source": [
    "Load Data\n",
    "\n",
    "The first two columns contains the exam scores and the third column contains the label(whether the person got admission or not)."
   ]
  },
  {
   "cell_type": "code",
   "execution_count": 69,
   "metadata": {
    "collapsed": true
   },
   "outputs": [],
   "source": [
    "import pandas as pd\n",
    "data = pd.read_csv(\"ex2/ex2data1.txt\", header = None)\n",
    "x = data.ix[:, 0:1]\n",
    "y = data.ix[:, 2]"
   ]
  },
  {
   "cell_type": "markdown",
   "metadata": {},
   "source": [
    "# 1.1Visualizing the data\n",
    "\n"
   ]
  },
  {
   "cell_type": "markdown",
   "metadata": {},
   "source": [
    "x1 and x2 are Exam 1 and Exam 2 scores repectively when y is equal to 1. similarly, x3 and x4 are Exam 1 and Exam 2 scores repectively when y is equal to 0"
   ]
  },
  {
   "cell_type": "code",
   "execution_count": 3,
   "metadata": {
    "collapsed": false
   },
   "outputs": [],
   "source": [
    "x1 = []\n",
    "for i in range(len(x)):\n",
    "    if y[i] == 1:\n",
    "        x1.append(x[0][i])\n",
    "        \n",
    "x2 = []\n",
    "for i in range(len(x)):\n",
    "    if y[i] == 1:\n",
    "        x2.append(x[1][i])\n",
    "        \n",
    "x3 = []\n",
    "for i in range(len(x)):\n",
    "    if y[i] == 0:\n",
    "        x3.append(x[0][i])    \n",
    "        \n",
    "        \n",
    "x4 = []\n",
    "for i in range(len(x)):\n",
    "    if y[i] == 0:\n",
    "        x4.append(x[1][i])\n"
   ]
  },
  {
   "cell_type": "markdown",
   "metadata": {},
   "source": [
    "Plotting the data."
   ]
  },
  {
   "cell_type": "code",
   "execution_count": 4,
   "metadata": {
    "collapsed": false
   },
   "outputs": [
    {
     "data": {
      "image/png": "[encoded data removed]",
      "text/plain": [
       "<matplotlib.figure.Figure at 0xad274aec>"
      ]
     },
     "metadata": {},
     "output_type": "display_data"
    }
   ],
   "source": [
    "%matplotlib inline\n",
    "from matplotlib import pyplot as plt\n",
    "plt.rcParams[\"figure.figsize\"] = [9, 6]\n",
    "plt.plot(x1, x2, \"k+\", label = \"Admitted\")\n",
    "plt.plot(x3, x4, \"yo\", label = \"Not admitted\")\n",
    "plt.xlabel(\"Exam1 Score\")\n",
    "plt.ylabel(\"Exam2 score\")\n",
    "plt.legend(loc = \"upper right\", fontsize = \"x-small\", numpoints = 1 )\n",
    "plt.ylim((30,100))\n",
    "plt.xlim((30,100))\n",
    "plt.show()"
   ]
  },
  {
   "cell_type": "markdown",
   "metadata": {},
   "source": [
    "                   Figure 1: Scatter plot of training data"
   ]
  },
  {
   "cell_type": "markdown",
   "metadata": {},
   "source": [
    "# 1.2 Implementation\n",
    "\n",
    "## 1.2.1 Warmup exercise: sigmoid function"
   ]
  },
  {
   "cell_type": "code",
   "execution_count": 5,
   "metadata": {
    "collapsed": true
   },
   "outputs": [],
   "source": [
    "import numpy as np\n",
    "def sigmoid(z):\n",
    "    denominator = 1 + np.exp(-1 * z)\n",
    "    g = 1 / denominator\n",
    "    return g\n",
    "    "
   ]
  },
  {
   "cell_type": "markdown",
   "metadata": {},
   "source": [
    "## 1.2.2 Cost function and gradient"
   ]
  },
  {
   "cell_type": "code",
   "execution_count": 1,
   "metadata": {
    "collapsed": false
   },
   "outputs": [],
   "source": [
    "import numpy as np\n",
    "def costFunction(theta, x, y):\n",
    "    m = len(y)\n",
    "    temp1 = -1 * y.dot(np.log(sigmoid(x.dot(theta))))\n",
    "    temp2 = (1 - y).dot(np.log(1 - sigmoid(x.dot(theta))))\n",
    "    \n",
    "    J = sum(temp1 - temp2) / (m * 1.0)\n",
    "    \n",
    "    grad = x.T.dot((sigmoid(x.dot(theta))) - y.reshape(m, 1)) * 1.0/m\n",
    "    return [J, grad]"
   ]
  },
  {
   "cell_type": "markdown",
   "metadata": {},
   "source": [
    "Minimizing cost function\n"
   ]
  },
  {
   "cell_type": "code",
   "execution_count": null,
   "metadata": {
    "collapsed": true
   },
   "outputs": [],
   "source": []
  }
 ],
 "metadata": {
  "anaconda-cloud": {},
  "kernelspec": {
   "display_name": "Python [Root]",
   "language": "python",
   "name": "Python [Root]"
  },
  "language_info": {
   "codemirror_mode": {
    "name": "ipython",
    "version": 2
   },
   "file_extension": ".py",
   "mimetype": "text/x-python",
   "name": "python",
   "nbconvert_exporter": "python",
   "pygments_lexer": "ipython2",
   "version": "2.7.12"
  }
 },
 "nbformat": 4,
 "nbformat_minor": 0
}
